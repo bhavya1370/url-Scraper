{
 "cells": [
  {
   "cell_type": "code",
   "execution_count": 24,
   "metadata": {},
   "outputs": [],
   "source": [
    "import requests\n",
    "from selenium import webdriver\n",
    "from selenium.webdriver.chrome.service import Service\n",
    "from selenium.webdriver.common.by import By\n",
    "from selenium.webdriver.common.keys import Keys\n",
    "from bs4 import BeautifulSoup\n",
    "from selenium.webdriver.support import expected_conditions as EC\n",
    "from selenium.webdriver.support.ui import WebDriverWait\n",
    "import numpy as np\n",
    "import pandas as pd\n",
    "import json"
   ]
  },
  {
   "cell_type": "code",
   "execution_count": null,
   "metadata": {},
   "outputs": [],
   "source": [
    "data = pd.read_csv('Amazon Scraping - Sheet1.csv')\n",
    "data.dropna()\n",
    "data"
   ]
  },
  {
   "cell_type": "code",
   "execution_count": 17,
   "metadata": {},
   "outputs": [],
   "source": [
    "country = np.array(data['country'])\n",
    "asin = np.array(data['Asin'])\n",
    "ids = np.array(data['id'])"
   ]
  },
  {
   "cell_type": "code",
   "execution_count": null,
   "metadata": {},
   "outputs": [],
   "source": [
    "PATH = 'C:\\\\webdriver\\\\chromedriver' # Path to your chrome driver\n",
    "driver = webdriver.Chrome(PATH)\n",
    "driver.maximize_window()"
   ]
  },
  {
   "cell_type": "code",
   "execution_count": null,
   "metadata": {},
   "outputs": [],
   "source": [
    "# for more than one url's uncomment the below code\n",
    "# url = []\n",
    "# for i in range(5):\n",
    "    # response = requests.get(\"https://www.amazon.\" + str(country[i]) + \"/dp/\" + str(asin[i]))\n",
    "# url.append(response.status_code)\n",
    "\n",
    "response = requests.get(\"https://www.amazon.de/dp/000004458X\") # sample url of the product taken from the list provided for sample output\n",
    "print(response.url)\n",
    "print(response.status_code)\n",
    "    "
   ]
  },
  {
   "cell_type": "code",
   "execution_count": null,
   "metadata": {},
   "outputs": [],
   "source": [
    "html = BeautifulSoup(response.text, \"html.parser\")\n",
    "print(html.prettify())"
   ]
  },
  {
   "cell_type": "code",
   "execution_count": 37,
   "metadata": {},
   "outputs": [],
   "source": [
    "driver.get(response.url)"
   ]
  },
  {
   "cell_type": "code",
   "execution_count": null,
   "metadata": {},
   "outputs": [],
   "source": [
    "# scrapting information\n",
    "prod = {}\n",
    "title = driver.find_element(By.XPATH, '//h1[@id=\"title\"]') # title of the product\n",
    "prod['title'] = title.text\n",
    "image = driver.find_element(By.XPATH, '//div[@class=\"imgTagWrapper\"]') # image of the product\n",
    "# print(image.get_attribute('innerHTML'))\n",
    "image = BeautifulSoup(image.get_attribute('innerHTML'), 'html.parser')\n",
    "prod['image'] = image.img.attrs['src']\n",
    "\n",
    "price = driver.find_element(By.XPATH, '//span[@class=\"a-price\"]')   # price of the product\n",
    "price = BeautifulSoup(price.get_attribute('innerHTML'), 'html.parser')\n",
    "prod['price'] = price.span.string\n",
    "\n",
    "details = driver.find_element(By.XPATH, '//div[@id=\"productDescription\"]')  # details of the product\n",
    "prod['details'] = details.text"
   ]
  },
  {
   "cell_type": "code",
   "execution_count": 41,
   "metadata": {},
   "outputs": [],
   "source": [
    "# outputas json file\n",
    "with open('output.json', 'w') as file:  \n",
    "    json.dump(prod, file, indent=4)"
   ]
  },
  {
   "cell_type": "code",
   "execution_count": null,
   "metadata": {},
   "outputs": [],
   "source": []
  }
 ],
 "metadata": {
  "interpreter": {
   "hash": "7812ea015bdcee6f23a998adcdd2ef97c151c0c241b7b7070987d9313e41299d"
  },
  "kernelspec": {
   "display_name": "Python 3.9.6 64-bit",
   "language": "python",
   "name": "python3"
  },
  "language_info": {
   "codemirror_mode": {
    "name": "ipython",
    "version": 3
   },
   "file_extension": ".py",
   "mimetype": "text/x-python",
   "name": "python",
   "nbconvert_exporter": "python",
   "pygments_lexer": "ipython3",
   "version": "3.9.6"
  },
  "orig_nbformat": 4
 },
 "nbformat": 4,
 "nbformat_minor": 2
}
